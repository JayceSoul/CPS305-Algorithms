{
 "cells": [
  {
   "cell_type": "markdown",
   "metadata": {},
   "source": [
    "# CPS305 Fall\n",
    "\n",
    "## Jonathan Ong, Std ID $500897030$\n",
    "\n",
    "## $06$ November $2019$\n",
    "\n",
    "## Introduction and Overall Comments:\n",
    "\n"
   ]
  },
  {
   "cell_type": "markdown",
   "metadata": {},
   "source": [
    "This is Jonathan Ong's exploration of jupyter notebook and data stuctures through the use of python.\n",
    "\n",
    "This lab covers the contents of binary trees in chapter 6.6 and 6.7 of the textbook and how to parse through a list expression."
   ]
  },
  {
   "cell_type": "markdown",
   "metadata": {},
   "source": [
    "# Exercise 1:"
   ]
  },
  {
   "cell_type": "code",
   "execution_count": 4,
   "metadata": {},
   "outputs": [
    {
     "name": "stdout",
     "output_type": "stream",
     "text": [
      "Expression in list is:  ['4', '+', [['3', '+', '1'], '!']]\n",
      "Normal equation is: 4+(3+1)!\n",
      "Parsed expression is:  ['+', ['4', [], []], ['!', ['+', ['3', [], []], ['1', [], []]], []]]\n",
      "\n",
      "Expression in list is:  []\n",
      "Normal equation is: empty\n",
      "Parsed expression is:  None\n"
     ]
    }
   ],
   "source": [
    "from parse import parse, parseHelper, precedence, handleOp, numberp, operatorp\n",
    "x=['4', '+', [['3', '+', '1'], '!']]\n",
    "print(\"Expression in list is: \", x)\n",
    "print(\"Normal equation is: 4+(3+1)!\")\n",
    "print(\"Parsed expression is: \", parse(x))\n",
    "y=[]\n",
    "print(\"\\nExpression in list is: \", y)\n",
    "print(\"Normal equation is: empty\")\n",
    "print(\"Parsed expression is: \", parse(y))"
   ]
  },
  {
   "cell_type": "markdown",
   "metadata": {},
   "source": [
    "### Discussion of the results\n",
    "Parse function seperates the operators and operands and constructs a tree from the list expression. Additionally I add functionality to parse correctly throught parentheses and the factorial operator. I also added functionality when an empty list expression is pass returning none."
   ]
  },
  {
   "cell_type": "markdown",
   "metadata": {},
   "source": [
    "# Exercise 2:"
   ]
  },
  {
   "cell_type": "code",
   "execution_count": 5,
   "metadata": {},
   "outputs": [
    {
     "name": "stderr",
     "output_type": "stream",
     "text": [
      "....."
     ]
    },
    {
     "name": "stdout",
     "output_type": "stream",
     "text": [
      "Test01 empty expression\n",
      "Expression in list\n",
      "[]\n",
      "Expression after parsing\n",
      "-- None\n",
      "\n",
      "\n",
      "Test03 factorial expressions\n",
      "Expression in list\n",
      "['2', '!']\n",
      "Expression after parsing\n",
      "-- ['!', ['2', [], []], []]\n",
      "\n",
      "\n",
      "Test05 long expression\n",
      "Expression in list\n",
      "['3', '/', ['6', '!'], '-', '9']\n",
      "Expression after parsing\n",
      "-- ['-', ['/', ['3', [], []], ['!', ['6', [], []], []]], ['9', [], []]]\n",
      "\n",
      "\n",
      "Test02 One Number expressions\n",
      "Expression in list\n",
      "['2']\n",
      "Expression after parsing\n",
      "-- ['2', [], []]\n",
      "\n",
      "\n",
      "Test04 expressions with parentheses\n",
      "Expression in list\n",
      "[['4', '+', '3'], '*', '7']\n",
      "Expression after parsing\n",
      "-- ['*', ['+', ['4', [], []], ['3', [], []]], ['7', [], []]]\n",
      "\n",
      "\n"
     ]
    },
    {
     "name": "stderr",
     "output_type": "stream",
     "text": [
      "\n",
      "----------------------------------------------------------------------\n",
      "Ran 5 tests in 0.008s\n",
      "\n",
      "OK\n"
     ]
    }
   ],
   "source": [
    "\n",
    "#Jonathan Ong\n",
    "import unittest\n",
    "from parse import parse, parseHelper, precedence, handleOp, numberp, operatorp\n",
    "\n",
    "class Test_par(unittest.TestCase):\n",
    "    \n",
    "#an expression with empty expression   \n",
    "    def test_None (self):\n",
    "        print(\"Test01 empty expression\")\n",
    "        x = []\n",
    "        print(\"Expression in list\")\n",
    "        print(x)\n",
    "        self.assertEqual(parse(x), None)\n",
    "        print(\"Expression after parsing\")\n",
    "        print(\"--\", parse(x))\n",
    "        print(\"\\n\")\n",
    "        \n",
    "#test for one number expressions  \n",
    "    def test_one (self):\n",
    "        print(\"Test02 One Number expressions\")\n",
    "        x=['2']\n",
    "        print(\"Expression in list\")\n",
    "        print(x)\n",
    "        self.assertEqual(parse(x), ['2', [], []])\n",
    "        print(\"Expression after parsing\")\n",
    "        print(\"--\", parse(x))\n",
    "        print(\"\\n\")\n",
    "\n",
    "#testing for factorial expressions        \n",
    "    def test_factorial (self):\n",
    "        print(\"Test03 factorial expressions\")\n",
    "        x = ['2', '!']\n",
    "        print(\"Expression in list\")\n",
    "        print(x)\n",
    "        self.assertEqual(parse(x), ['!', ['2', [], []], []])\n",
    "        print(\"Expression after parsing\")\n",
    "        print(\"--\", parse(x))\n",
    "        print(\"\\n\")\n",
    "\n",
    "#testing for expressions with parentheses   \n",
    "    def test_para (self):\n",
    "        print(\"Test04 expressions with parentheses\")\n",
    "        x = [['4', '+', '3'], '*', '7']\n",
    "        print(\"Expression in list\")\n",
    "        print(x)\n",
    "        self.assertEqual(parse(x), \t['*', ['+', ['4', [], []], ['3', [], []]], ['7', [], []]])\n",
    "        print(\"Expression after parsing\")\n",
    "        print(\"--\", parse(x))\n",
    "        print(\"\\n\")\n",
    "\n",
    "\n",
    "#testing with a long expression        \n",
    "    def test_long (self):\n",
    "        print(\"Test05 long expression\")\n",
    "        x = ['3','/',['6', '!'],'-', '9']\n",
    "        print(\"Expression in list\")\n",
    "        print(x)\n",
    "        self.assertEqual(parse(x), ['-', ['/', ['3', [], []], ['!', ['6', [], []], []]], ['9', [], []]])\n",
    "        print(\"Expression after parsing\")\n",
    "        print(\"--\", parse(x))\n",
    "        print(\"\\n\")\n",
    "\n",
    "if __name__ == '__main__':\n",
    "    unittest.main(argv=['first-arg-is-ignored'], exit=False)"
   ]
  },
  {
   "cell_type": "markdown",
   "metadata": {},
   "source": [
    "### Discussion of the results\n",
    "Tests the functionality of the parse function in 5 cases."
   ]
  }
 ],
 "metadata": {
  "kernelspec": {
   "display_name": "Python 3",
   "language": "python",
   "name": "python3"
  },
  "language_info": {
   "codemirror_mode": {
    "name": "ipython",
    "version": 3
   },
   "file_extension": ".py",
   "mimetype": "text/x-python",
   "name": "python",
   "nbconvert_exporter": "python",
   "pygments_lexer": "ipython3",
   "version": "3.7.3"
  }
 },
 "nbformat": 4,
 "nbformat_minor": 2
}
