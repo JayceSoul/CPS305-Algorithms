{
 "cells": [
  {
   "cell_type": "markdown",
   "metadata": {},
   "source": [
    "# CPS305 Fall\n",
    "\n",
    "## Jonathan Ong, Std ID $500897030$\n",
    "\n",
    "## $30$ October $2019$\n",
    "\n",
    "## Introduction and Overall Comments:\n",
    "\n"
   ]
  },
  {
   "cell_type": "markdown",
   "metadata": {},
   "source": [
    "This is Jonathan Ong's exploration of jupyter notebook and data stuctures through the use of python.\n",
    "\n",
    "This lab covers the contents of binary trees in chapter 6.4 of the textbook and how to evaluate tree expressions when given a tree and an enviroment. "
   ]
  },
  {
   "cell_type": "markdown",
   "metadata": {},
   "source": [
    "# Exercise 1:"
   ]
  },
  {
   "cell_type": "code",
   "execution_count": 2,
   "metadata": {},
   "outputs": [
    {
     "name": "stdout",
     "output_type": "stream",
     "text": [
      "Expression is: a+(b/c)\n",
      "['+', ['a', [], []], ['/', ['b', [], []], ['c', [], []]]]\n",
      "10 / 2\n",
      "2 + 5.0\n",
      "7.0\n"
     ]
    }
   ],
   "source": [
    "from eval import evalTree, BinaryTree, getLeftChild, getRightChild,getRootVal,insertLeft,insertRight, buildTree\n",
    "\n",
    "env = {\n",
    "    'a': 2,\n",
    "    'b': 10,\n",
    "    'c': 2,\n",
    "}\n",
    "\n",
    "r = buildTree()\n",
    "print(\"Expression is: a+(b/c)\")\n",
    "print(r)\n",
    "print(evalTree(r,env))"
   ]
  },
  {
   "cell_type": "markdown",
   "metadata": {},
   "source": [
    "### Discussion of the results\n",
    "evalTree takes a tree and an enviroment dicitonary and recursively evaluates the left and right branches. The base case is when root of the both left and right child is [] which causes the function to return the leafs of the tree found in the enviroment dictionary. If a variable is not found in the enviroment dictionary or is a divide by zero case the result will be None. I left a print statement so you can see how the branches are evaluated."
   ]
  },
  {
   "cell_type": "markdown",
   "metadata": {},
   "source": [
    "# Exercise 2:"
   ]
  },
  {
   "cell_type": "code",
   "execution_count": 6,
   "metadata": {},
   "outputs": [
    {
     "name": "stderr",
     "output_type": "stream",
     "text": [
      "...."
     ]
    },
    {
     "name": "stdout",
     "output_type": "stream",
     "text": [
      "Test03 Long expression\n",
      "Tree in list notation\n",
      "['+', ['a', [], []], ['*', ['b', [], []], ['-', ['c', [], []], ['d', [], []]]]]\n",
      "30 - 40\n",
      "20 * -10\n",
      "10 + -200\n",
      "-190\n",
      "\n",
      "\n",
      "Test04 Missing\n",
      "Tree in list notation\n",
      "['+', ['a', [], []], ['b', [], []]]\n",
      "None + 20\n",
      "None\n",
      "\n",
      "\n",
      "Test01 One Number\n",
      "Tree in list notation\n",
      "['a', [], []]\n",
      "10\n",
      "\n",
      "\n",
      "Test02 Divide by Zero\n",
      "Tree in list notation\n",
      "['/', ['a', [], []], ['-', ['c', [], []], ['b', [], []]]]\n",
      "30 - 30\n",
      "10 / 0\n",
      "None\n",
      "\n",
      "\n"
     ]
    },
    {
     "name": "stderr",
     "output_type": "stream",
     "text": [
      "\n",
      "----------------------------------------------------------------------\n",
      "Ran 4 tests in 0.007s\n",
      "\n",
      "OK\n"
     ]
    }
   ],
   "source": [
    "\n",
    "#Jonathan Ong\n",
    "import unittest\n",
    "from eval import evalTree, BinaryTree, getLeftChild, getRightChild,getRootVal,insertLeft,insertRight\n",
    "\n",
    "class Test_mo3(unittest.TestCase):\n",
    "    \n",
    "#an expression with one number   \n",
    "    def test_one (self):\n",
    "        print(\"Test01 One Number\")\n",
    "        env = {\n",
    "            'a':10,\n",
    "            'b':20,\n",
    "            'c':30\n",
    "            }\n",
    "        r = BinaryTree('a')\n",
    "        print(\"Tree in list notation\")\n",
    "        print(r)\n",
    "        res = evalTree(r,env)\n",
    "        print(res)\n",
    "        self.assertEqual(res, 10)\n",
    "        print(\"\\n\")\n",
    "        \n",
    "#divide by zero        \n",
    "    def test_zero (self):\n",
    "        print(\"Test02 Divide by Zero\")\n",
    "        env = {\n",
    "            'a':10,\n",
    "            'b':30,\n",
    "            'c':30\n",
    "            }\n",
    "        r = BinaryTree('/')\n",
    "        insertLeft(r,'a')\n",
    "        insertRight(r,'-')\n",
    "        insertRight(getRightChild(r),'b')\n",
    "        insertLeft(getRightChild(r),'c')\n",
    "        print(\"Tree in list notation\")\n",
    "        print(r)\n",
    "        res = evalTree(r,env)\n",
    "        print(res)\n",
    "        self.assertEqual(res, None)\n",
    "        print(\"\\n\")\n",
    "\n",
    "#testing for long expressions        \n",
    "    def test_longexpression (self):\n",
    "        print(\"Test03 Long expression\")\n",
    "        env = {\n",
    "            'a':10,\n",
    "            'b':20,\n",
    "            'c':30,\n",
    "            'd':40\n",
    "            }\n",
    "        r = BinaryTree('+')\n",
    "        insertLeft(r,'a')\n",
    "        insertRight(r,'*')\n",
    "        insertRight(getRightChild(r),'-')\n",
    "        insertLeft(getRightChild(r),'b')\n",
    "        insertRight(getRightChild(getRightChild(r)), 'd')\n",
    "        insertLeft(getRightChild(getRightChild(r)), 'c')\n",
    "        print(\"Tree in list notation\")\n",
    "        print(r)\n",
    "        res = evalTree(r,env)\n",
    "        print(res)\n",
    "        self.assertEqual(res, -190)\n",
    "        print(\"\\n\")\n",
    "\n",
    "#testing for missing a number in env        \n",
    "    def test_missing (self):\n",
    "        print(\"Test04 Missing\")\n",
    "        env = {\n",
    "            'b':20,\n",
    "            'c':30\n",
    "            }\n",
    "        r = BinaryTree('+')\n",
    "        insertLeft(r,'a')\n",
    "        insertRight(r,'b')\n",
    "        print(\"Tree in list notation\")\n",
    "        print(r)\n",
    "        res = evalTree(r,env)\n",
    "        print(res)\n",
    "        self.assertEqual(res, None)\n",
    "        print(\"\\n\")\n",
    "\n",
    "if __name__ == '__main__':\n",
    "    unittest.main(argv=['first-arg-is-ignored'], exit=False)"
   ]
  },
  {
   "cell_type": "markdown",
   "metadata": {},
   "source": [
    "### Discussion of the results\n",
    "Tests the functionality of the evalTree function in 4 cases."
   ]
  }
 ],
 "metadata": {
  "kernelspec": {
   "display_name": "Python 3",
   "language": "python",
   "name": "python3"
  },
  "language_info": {
   "codemirror_mode": {
    "name": "ipython",
    "version": 3
   },
   "file_extension": ".py",
   "mimetype": "text/x-python",
   "name": "python",
   "nbconvert_exporter": "python",
   "pygments_lexer": "ipython3",
   "version": "3.7.3"
  }
 },
 "nbformat": 4,
 "nbformat_minor": 2
}
