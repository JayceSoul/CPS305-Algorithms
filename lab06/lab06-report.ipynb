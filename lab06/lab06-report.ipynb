{
 "cells": [
  {
   "cell_type": "markdown",
   "metadata": {},
   "source": [
    "# CPS305 Fall\n",
    "\n",
    "## Jonathan Ong, Std ID $500897030$\n",
    "\n",
    "## $28$ October $2019$\n",
    "\n",
    "## Introduction and Overall Comments:\n",
    "\n"
   ]
  },
  {
   "cell_type": "markdown",
   "metadata": {},
   "source": [
    "This is Jonathan Ong's exploration of jupyter notebook and data stuctures through the use of python.\n",
    "\n",
    "This lab covers the contents of qucik sort in chapter 5.12 of the textbook and compares how different pivot points affect runtime."
   ]
  },
  {
   "cell_type": "markdown",
   "metadata": {},
   "source": [
    "# Exercise 1:"
   ]
  },
  {
   "cell_type": "code",
   "execution_count": 5,
   "metadata": {},
   "outputs": [
    {
     "data": {
      "image/png": "[encoded data removed]",
      "text/plain": [
       "<Figure size 432x288 with 1 Axes>"
      ]
     },
     "metadata": {
      "needs_background": "light"
     },
     "output_type": "display_data"
    },
    {
     "name": "stdout",
     "output_type": "stream",
     "text": [
      "Total Runtime: 0.24875 Average Runtime: 0.00005\n"
     ]
    },
    {
     "data": {
      "image/png": "[encoded data removed]",
      "text/plain": [
       "<Figure size 432x288 with 1 Axes>"
      ]
     },
     "metadata": {
      "needs_background": "light"
     },
     "output_type": "display_data"
    },
    {
     "name": "stdout",
     "output_type": "stream",
     "text": [
      "Total Runtime: 0.07807 Average Runtime: 0.00002\n"
     ]
    }
   ],
   "source": [
    "import timeit\n",
    "import matplotlib.pyplot as plt\n",
    "from sorting import mo3_quicksort, quickSort\n",
    "import random\n",
    "\n",
    "graphx = []\n",
    "graphy = []\n",
    "\n",
    "ugraphx = []\n",
    "ugraphy = []\n",
    "\n",
    "counter = 0\n",
    "\n",
    "\n",
    "runtime1 = 0\n",
    "runtime2 = 0\n",
    "#make 100 lists of 100 random numbers \n",
    "lists = []\n",
    "for l in range (1,100):\n",
    "    li = []\n",
    "    for val in range(l*10):\n",
    "        li.append(random.randint(1,100))\n",
    "    lists.append(li)\n",
    "\n",
    "# loop for get test\n",
    "for x in range(len(lists)):\n",
    "    t = timeit.Timer(lambda: mo3_quicksort(lists[x]))\n",
    "    graphy.append(t.timeit(number = 1))\n",
    "    runtime1 += graphy[counter]\n",
    "    graphx.append(len(lists[x]))\n",
    "    counter = counter + 1\n",
    "    \n",
    "counter = 0\n",
    "#make 100 lists of 100 random numbers \n",
    "lists = []\n",
    "for l in range (1,100):\n",
    "    li = []\n",
    "    for val in range(l*10):\n",
    "        li.append(random.randint(1,100))\n",
    "    lists.append(li)\n",
    "                     \n",
    "#loop for update test\n",
    "for x in range(len(lists)):\n",
    "    t = timeit.Timer(lambda: quickSort(lists[x]))\n",
    "    ugraphy.append(t.timeit(number = 1))\n",
    "    runtime2 += ugraphy[counter]\n",
    "    ugraphx.append(len(lists[x]))\n",
    "    counter = counter + 1\n",
    "    \n",
    "\n",
    "\n",
    "#graph for mo3_quicksort\n",
    "plt.title(\"Median of three\")\n",
    "plt.scatter(graphx,graphy)\n",
    "plt.xlabel(\"enteries\")\n",
    "plt.ylabel(\"Time in seconds\")\n",
    "plt.show()\n",
    "print(\"Total Runtime: %.5f Average Runtime: %.5f\" %(runtime1, runtime1/5000))\n",
    "\n",
    "#graph for quickSort\n",
    "plt.title(\"QuickSort\")\n",
    "plt.scatter(ugraphx,ugraphy)\n",
    "plt.xlabel(\"enteries\")\n",
    "plt.ylabel(\"Time in seconds\")\n",
    "plt.show()\n",
    "print(\"Total Runtime: %.5f Average Runtime: %.5f\" %(runtime2, runtime2/5000))"
   ]
  },
  {
   "cell_type": "markdown",
   "metadata": {},
   "source": [
    "### Discussion of the results\n",
    "The results show that both quicks sorts are similar in runtime. Although the runtime of the median of three method slightly increases more than the QuickSort as the number of enteries grow larger."
   ]
  },
  {
   "cell_type": "markdown",
   "metadata": {},
   "source": [
    "# Exercise 2:"
   ]
  },
  {
   "cell_type": "code",
   "execution_count": 1,
   "metadata": {},
   "outputs": [
    {
     "name": "stderr",
     "output_type": "stream",
     "text": [
      "......"
     ]
    },
    {
     "name": "stdout",
     "output_type": "stream",
     "text": [
      "Before:\n",
      "[]\n",
      "After:\n",
      "[]\n",
      "Before:\n",
      "[1, 1, 1, 1, 1, 1]\n",
      "After:\n",
      "[1, 1, 1, 1, 1, 1]\n",
      "Before:\n",
      "[13, 121, 231, 21, 1, 23, 5]\n",
      "After:\n",
      "[1, 5, 13, 21, 23, 121, 231]\n",
      "Before:\n",
      "[]\n",
      "After:\n",
      "[]\n",
      "Before:\n",
      "[1, 1, 1, 1, 1, 1]\n",
      "After:\n",
      "[1, 1, 1, 1, 1, 1]\n",
      "Before:\n",
      "[13, 121, 231, 21, 1, 23, 5]\n",
      "After:\n",
      "[1, 5, 13, 21, 23, 121, 231]\n"
     ]
    },
    {
     "name": "stderr",
     "output_type": "stream",
     "text": [
      "\n",
      "----------------------------------------------------------------------\n",
      "Ran 6 tests in 0.007s\n",
      "\n",
      "OK\n"
     ]
    }
   ],
   "source": [
    "import unittest\n",
    "from sorting import mo3_quicksort, quickSort\n",
    "\n",
    "\n",
    "class Test_mo3(unittest.TestCase):\n",
    "    \n",
    "#normal list    \n",
    "    def test_sort (self):\n",
    "        data = [13,121,231,21,1,23,5]\n",
    "        print(\"Before:\")\n",
    "        print(data)\n",
    "        mo3_quicksort(data)\n",
    "        self.assertEqual(data, [1,5,13,21,23,121,231])\n",
    "        print(\"After:\")\n",
    "        print(data)\n",
    "        \n",
    "#when list is empty        \n",
    "    def test_empty (self):\n",
    "        data = []\n",
    "        print(\"Before:\")\n",
    "        print(data)\n",
    "        mo3_quicksort(data)\n",
    "        self.assertEqual(data, [])\n",
    "        print(\"After:\")\n",
    "        print(data)\n",
    "\n",
    "#when enteries are all the same        \n",
    "    def test_same (self):\n",
    "        data = [1,1,1,1,1,1,]\n",
    "        print(\"Before:\")\n",
    "        print(data)\n",
    "        mo3_quicksort(data)\n",
    "        self.assertEqual(data, [1,1,1,1,1,1])\n",
    "        print(\"After:\")\n",
    "        print(data)\n",
    "\n",
    "class Test_qs(unittest.TestCase):\n",
    "#normal list\n",
    "    def test_sort (self):\n",
    "        data = [13,121,231,21,1,23,5]\n",
    "        print(\"Before:\")\n",
    "        print(data)\n",
    "        quickSort(data)\n",
    "        self.assertEqual(data, [1,5,13,21,23,121,231])\n",
    "        print(\"After:\")\n",
    "        print(data)\n",
    "        \n",
    "#when list is empty\n",
    "    def test_empty (self):\n",
    "        data = []\n",
    "        print(\"Before:\")\n",
    "        print(data)\n",
    "        quickSort(data)\n",
    "        self.assertEqual(data, [])\n",
    "        print(\"After:\")\n",
    "        print(data)\n",
    "        \n",
    "#when enteries are all the same\n",
    "    def test_same (self):\n",
    "        data = [1,1,1,1,1,1,]\n",
    "        print(\"Before:\")\n",
    "        print(data)\n",
    "        quickSort(data)\n",
    "        self.assertEqual(data, [1,1,1,1,1,1])\n",
    "        print(\"After:\")\n",
    "        print(data)\n",
    "\n",
    "if __name__ == '__main__':\n",
    "    unittest.main(argv=['first-arg-is-ignored'], exit=False)"
   ]
  },
  {
   "cell_type": "markdown",
   "metadata": {},
   "source": [
    "### Discussion of the results\n",
    "Tests the functionality of the median of tree quicksort and quicksort from the textbook."
   ]
  }
 ],
 "metadata": {
  "kernelspec": {
   "display_name": "Python 3",
   "language": "python",
   "name": "python3"
  },
  "language_info": {
   "codemirror_mode": {
    "name": "ipython",
    "version": 3
   },
   "file_extension": ".py",
   "mimetype": "text/x-python",
   "name": "python",
   "nbconvert_exporter": "python",
   "pygments_lexer": "ipython3",
   "version": "3.7.3"
  }
 },
 "nbformat": 4,
 "nbformat_minor": 2
}
