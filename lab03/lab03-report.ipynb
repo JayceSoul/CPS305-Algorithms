{
 "cells": [
  {
   "cell_type": "markdown",
   "metadata": {},
   "source": [
    "# CPS305 Fall 2019\n",
    "## Lab $03$ Report\n",
    "## Jonathan Ong, Std ID $500897030$\n",
    "\n",
    "## $25$ September $2019$\n",
    "\n",
    "## Introduction and Overall Comments\n",
    "This is Jonathan Ong's exploration of jupyter notebook and data stuctures through the use of python. \n",
    "\n",
    "This lab covers exercises aimed to help students with file submission format and to test the knowledge gained from the reading chapter 3 which covers topics such as stacks, queues and operations (postfix, prefix).  \n"
   ]
  },
  {
   "cell_type": "markdown",
   "metadata": {},
   "source": [
    "## Solution for exercise 1"
   ]
  },
  {
   "cell_type": "code",
   "execution_count": 9,
   "metadata": {},
   "outputs": [
    {
     "name": "stdout",
     "output_type": "stream",
     "text": [
      "(4, '6 1 2 * -')\n",
      "(6, '8 2 / 4 2 - +')\n"
     ]
    }
   ],
   "source": [
    "from mySolution import infixToPostfixEval\n",
    "\n",
    "print(infixToPostfixEval(\"6 - 1 * 2\"))\n",
    "print(infixToPostfixEval(\"8 / 2 + ( 4 - 2 )\"))"
   ]
  },
  {
   "cell_type": "markdown",
   "metadata": {},
   "source": [
    "**Discussion of the Results:**\n",
    "My program first converts the infix expression to postfix then evaluates the postfix expression. At the end it returns two values the evaluated result and the post fix expression."
   ]
  },
  {
   "cell_type": "markdown",
   "metadata": {},
   "source": [
    "## Solution for Exercise 2"
   ]
  },
  {
   "cell_type": "code",
   "execution_count": 8,
   "metadata": {},
   "outputs": [
    {
     "name": "stderr",
     "output_type": "stream",
     "text": [
      ".....\n",
      "----------------------------------------------------------------------\n",
      "Ran 5 tests in 0.008s\n",
      "\n",
      "OK\n"
     ]
    }
   ],
   "source": [
    "#Unittests\n",
    "from mySolution import infixToPostfixEval\n",
    "import unittest\n",
    "#Jonathan Ong\n",
    "\n",
    "class Testscore(unittest.TestCase):\n",
    "\n",
    "    #subtraction test    \n",
    "    def test_subtration (self):\n",
    "        value, equ = infixToPostfixEval(\"1 + 2 + 3\")\n",
    "        self.assertEqual(value,6)\n",
    "        self.assertEqual(equ,\"1 2 + 3 +\")\n",
    "    \n",
    "    #addition test\n",
    "    def test_addition (self):\n",
    "        value, equ = infixToPostfixEval(\"6 - 2 - 1\")\n",
    "        self.assertEqual(value,3)\n",
    "        self.assertEqual(equ,\"6 2 - 1 -\")\n",
    "    \n",
    "    #mutiplication test\n",
    "    def test_mutiplication (self):\n",
    "        value, equ = infixToPostfixEval(\"2 * 2 * 3\")\n",
    "        self.assertEqual(value,12)\n",
    "        self.assertEqual(equ,\"2 2 * 3 *\")\n",
    "    \n",
    "    #division test\n",
    "    def test_division (self):\n",
    "        value, equ = infixToPostfixEval(\"6 / 2 / 3\")\n",
    "        self.assertEqual(value,1)\n",
    "        self.assertEqual(equ,\"6 2 / 3 /\")\n",
    "\n",
    "    #tests with all operations twice (in each case the factorial is used)  \n",
    "    def test_all(self):\n",
    "        value, equ = infixToPostfixEval(\"6 * ( ( ( 5 + 3 )  - 2 ) / 2 )\")\n",
    "        self.assertEqual(value,18)\n",
    "        self.assertEqual(equ,\"6 5 3 + 2 - 2 / *\")\n",
    "        value, equ = infixToPostfixEval(\"! 3  / ( 2 * 3 )\")\n",
    "        self.assertEqual(value,1)\n",
    "        self.assertEqual(equ,\"3 ! 2 3 * /\")\n",
    "\n",
    "if __name__ == '__main__':\n",
    "    unittest.main(argv=['first-arg-is-ignored'], exit=False)\n"
   ]
  },
  {
   "cell_type": "markdown",
   "metadata": {},
   "source": [
    "**Discussion of the Results:**\n",
    "Tested for all operators.\n",
    "\n"
   ]
  }
 ],
 "metadata": {
  "kernelspec": {
   "display_name": "Python 3",
   "language": "python",
   "name": "python3"
  },
  "language_info": {
   "codemirror_mode": {
    "name": "ipython",
    "version": 3
   },
   "file_extension": ".py",
   "mimetype": "text/x-python",
   "name": "python",
   "nbconvert_exporter": "python",
   "pygments_lexer": "ipython3",
   "version": "3.7.3"
  },
  "latex_envs": {
   "LaTeX_envs_menu_present": true,
   "autoclose": false,
   "autocomplete": true,
   "bibliofile": "biblio.bib",
   "cite_by": "apalike",
   "current_citInitial": 1,
   "eqLabelWithNumbers": true,
   "eqNumInitial": 1,
   "hotkeys": {
    "equation": "Ctrl-E",
    "itemize": "Ctrl-I"
   },
   "labels_anchors": false,
   "latex_user_defs": false,
   "report_style_numbering": false,
   "user_envs_cfg": false
  }
 },
 "nbformat": 4,
 "nbformat_minor": 2
}
