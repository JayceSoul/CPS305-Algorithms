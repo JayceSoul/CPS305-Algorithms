{
 "cells": [
  {
   "cell_type": "markdown",
   "metadata": {},
   "source": [
    "# CPS305 Fall 2019\n",
    "## Lab $01$ Report\n",
    "## Jonathan Ong, Std ID $500897030$\n",
    "\n",
    "## $09$ September $2019$\n",
    "\n",
    "## Introduction and Overall Comments\n",
    "This is Jonathan Ong's exploration of jupyter notebook and data stuctures through the use of python. \n",
    "\n",
    "This lab covers exercises aimed to help students with file submission format and to test the knowledge gained from the reading assigments by directing them to implement a function to solve the monkey typist problem.  \n"
   ]
  },
  {
   "cell_type": "markdown",
   "metadata": {},
   "source": [
    "## Solution for exercise 1"
   ]
  },
  {
   "cell_type": "markdown",
   "metadata": {},
   "source": [
    "Exercise 1 was file management for the lab submission"
   ]
  },
  {
   "cell_type": "markdown",
   "metadata": {},
   "source": [
    "## Solution for Exercise 2 & 4"
   ]
  },
  {
   "cell_type": "code",
   "execution_count": 2,
   "metadata": {},
   "outputs": [
    {
     "name": "stdout",
     "output_type": "stream",
     "text": [
      "String 100 : methinksmegunoknlsyjbvxgrrqv  Score: 28.57142857142857\n",
      "String 200 : methinks rgunoknlsyjbvxgrrqv  Score: 32.142857142857146\n",
      "String 300 : methinks it joknlsyjbvxgrrqv  Score: 42.857142857142854\n",
      "String 400 : methinks it is vlsyjbvxgrrqv  Score: 53.57142857142857\n",
      "String 500 : methinks it is lipyjbvxgrrqv  Score: 60.71428571428571\n",
      "String 600 : methinks it is like ayxgrrqv  Score: 75.0\n",
      "String 700 : methinks it is like a weayqv  Score: 89.28571428571429\n",
      "String 800 : methinks it is like a weasey  Score: 96.42857142857143\n",
      "String 807 : methinks it is like a weasel  Score: 100.0\n"
     ]
    },
    {
     "data": {
      "image/png": "[encoded data removed]",
      "text/plain": [
       "<Figure size 432x288 with 1 Axes>"
      ]
     },
     "metadata": {
      "needs_background": "light"
     },
     "output_type": "display_data"
    }
   ],
   "source": [
    "# Python code and its output \n",
    "from mySolution import monkeyTypist \n",
    "\n",
    "monkeyTypist()"
   ]
  },
  {
   "cell_type": "markdown",
   "metadata": {},
   "source": [
    "**Discussion of the Results:**\n",
    "The graph above displays the best result in every 100 generations until it reaches the target string. The first run is when a random string is generated using a helper fuction called generate. This generated string is then passed into another helper function called calculateScore which returns how close the generated string is to the target shown in the y-axis. The generated string is then changed one letter at a time when passed through a helper function called replaceOne. The purpose of this fuction is to randomly replace the first incorrect character found with another letter in the character pool. This process is looped until score is 100. \n"
   ]
  },
  {
   "cell_type": "markdown",
   "metadata": {},
   "source": [
    "## Solution for Exercise 3"
   ]
  },
  {
   "cell_type": "code",
   "execution_count": null,
   "metadata": {},
   "outputs": [],
   "source": [
    "#Unittests\n",
    "import test\n",
    "\n",
    "if __name__ == '__main__':\n",
    "    unittest.main(argv=['first-arg-is-ignored'], exit=False)"
   ]
  },
  {
   "cell_type": "markdown",
   "metadata": {},
   "source": [
    "**Discussion of the Results:**\n",
    "\n",
    "First test checks if the generated character is in the word bank.\n",
    "\n",
    "Second test check if the generated string is the correct length. \n",
    "\n",
    "Third test simulates a 100 score case for calculateScore.\n",
    "\n",
    "Fouth test simulates a 0 score case for calculateScore.\n"
   ]
  }
 ],
 "metadata": {
  "kernelspec": {
   "display_name": "Python 3",
   "language": "python",
   "name": "python3"
  },
  "language_info": {
   "codemirror_mode": {
    "name": "ipython",
    "version": 3
   },
   "file_extension": ".py",
   "mimetype": "text/x-python",
   "name": "python",
   "nbconvert_exporter": "python",
   "pygments_lexer": "ipython3",
   "version": "3.7.3"
  },
  "latex_envs": {
   "LaTeX_envs_menu_present": true,
   "autoclose": false,
   "autocomplete": true,
   "bibliofile": "biblio.bib",
   "cite_by": "apalike",
   "current_citInitial": 1,
   "eqLabelWithNumbers": true,
   "eqNumInitial": 1,
   "hotkeys": {
    "equation": "Ctrl-E",
    "itemize": "Ctrl-I"
   },
   "labels_anchors": false,
   "latex_user_defs": false,
   "report_style_numbering": false,
   "user_envs_cfg": false
  }
 },
 "nbformat": 4,
 "nbformat_minor": 2
}
