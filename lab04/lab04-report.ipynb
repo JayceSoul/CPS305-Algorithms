{
 "cells": [
  {
   "cell_type": "markdown",
   "metadata": {},
   "source": [
    "# CPS305 Fall 2019\n",
    "## Lab $04$ Report\n",
    "## Jonathan Ong, Std ID $500897030$\n",
    "\n",
    "## $01$ October $2019$\n",
    "\n",
    "## Introduction and Overall Comments\n",
    "This is Jonathan Ong's exploration of jupyter notebook and data stuctures through the use of python. \n",
    "\n",
    "This lab covers exercises aimed to help students with file submission format and to test the knowledge gained from the reading chapter 4 which covers topics such as recursion AND turtle. \n"
   ]
  },
  {
   "cell_type": "markdown",
   "metadata": {},
   "source": [
    "## Solution for exercise 2"
   ]
  },
  {
   "cell_type": "code",
   "execution_count": 3,
   "metadata": {},
   "outputs": [
    {
     "name": "stdout",
     "output_type": "stream",
     "text": [
      "64\n",
      "64\n",
      "15\n"
     ]
    }
   ],
   "source": [
    "from mySolution import power, powerH, binoCo\n",
    "#drawTree was run in an IDE\n",
    "print(power(2,6,1))\n",
    "print(powerH(2,6))\n",
    "print(binoCo(6,4))"
   ]
  },
  {
   "cell_type": "markdown",
   "metadata": {},
   "source": [
    "**Discussion of the Results:**\n",
    "Power uses tail recursion. PowerH breaks dow the problem into halves then solves them recursively. BinoCo uses binomial coeffiecient relationships to recursively compute them. \n"
   ]
  },
  {
   "cell_type": "markdown",
   "metadata": {},
   "source": [
    "## Test Cases"
   ]
  },
  {
   "cell_type": "code",
   "execution_count": 8,
   "metadata": {},
   "outputs": [
    {
     "name": "stderr",
     "output_type": "stream",
     "text": [
      ".....\n",
      "----------------------------------------------------------------------\n",
      "Ran 5 tests in 0.008s\n",
      "\n",
      "OK\n"
     ]
    }
   ],
   "source": [
    "#Jonathan Ong\n",
    "import unittest \n",
    "from mySolution import power, powerH, binoCo\n",
    "\n",
    "class Test(unittest.TestCase):\n",
    "    \n",
    "    def test_power (self):\n",
    "        t1 = power(2, 4, 1) #normal test\n",
    "        t2 = power(2, 0, 1) #test case if n is zero\n",
    "        t3 = power(0, 4, 1) #test case for if base is zero\n",
    "        self.assertEqual(t1,16)\n",
    "        self.assertEqual(t2,1)\n",
    "        self.assertEqual(t3,0)\n",
    "    \n",
    "    def test_powerH (self):\n",
    "        t1 = powerH(2, 4) #normal test\n",
    "        t2 = powerH(2, 0) #test case if n is zero\n",
    "        t3 = powerH(0, 4) #test case for if base is zero\n",
    "        self.assertEqual(t1,16)\n",
    "        self.assertEqual(t2,1)\n",
    "        self.assertEqual(t3,0)\n",
    "    \n",
    "    \n",
    "    def test_binoCo (self):\n",
    "        t1 = binoCo(2,1) #normal test\n",
    "        t2 = binoCo(2,0) #when k is 0\n",
    "        t3 = binoCo(0,2) #when n is 0\n",
    "        self.assertEqual(t1,2)\n",
    "        self.assertEqual(t2,1)\n",
    "        self.assertEqual(t3,0)\n",
    "\n",
    "if __name__ == '__main__':\n",
    "    unittest.main(argv=['first-arg-is-ignored'], exit=False)\n"
   ]
  },
  {
   "cell_type": "markdown",
   "metadata": {},
   "source": [
    "**Discussion of the Results:**\n",
    "Tested for different cases.\n",
    "\n"
   ]
  }
 ],
 "metadata": {
  "kernelspec": {
   "display_name": "Python 3",
   "language": "python",
   "name": "python3"
  },
  "language_info": {
   "codemirror_mode": {
    "name": "ipython",
    "version": 3
   },
   "file_extension": ".py",
   "mimetype": "text/x-python",
   "name": "python",
   "nbconvert_exporter": "python",
   "pygments_lexer": "ipython3",
   "version": "3.7.3"
  },
  "latex_envs": {
   "LaTeX_envs_menu_present": true,
   "autoclose": false,
   "autocomplete": true,
   "bibliofile": "biblio.bib",
   "cite_by": "apalike",
   "current_citInitial": 1,
   "eqLabelWithNumbers": true,
   "eqNumInitial": 1,
   "hotkeys": {
    "equation": "Ctrl-E",
    "itemize": "Ctrl-I"
   },
   "labels_anchors": false,
   "latex_user_defs": false,
   "report_style_numbering": false,
   "user_envs_cfg": false
  }
 },
 "nbformat": 4,
 "nbformat_minor": 2
}
